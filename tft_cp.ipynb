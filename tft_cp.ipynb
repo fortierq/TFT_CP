{
 "cells": [
  {
   "cell_type": "code",
   "execution_count": 6,
   "metadata": {},
   "outputs": [],
   "source": [
    "from ortools.sat.python import cp_model\n",
    "from itertools import combinations"
   ]
  },
  {
   "cell_type": "code",
   "execution_count": 23,
   "metadata": {},
   "outputs": [],
   "source": [
    "def cp_tft(n):\n",
    "    model = cp_model.CpModel()\n",
    "    x, c = dict(), dict()\n",
    "    E = range(n)\n",
    "    for s in combinations(E, 4):\n",
    "        x[s] = model.NewBoolVar(str(s))\n",
    "    for p in combinations(E, 2):\n",
    "        S_i = []\n",
    "        for s in combinations(E, 4):\n",
    "            if p[0] in s and p[1] in s:\n",
    "                S_i.append(x[s])\n",
    "        model.Add(sum(S_i) == 2)\n",
    "    return model, x"
   ]
  },
  {
   "cell_type": "code",
   "execution_count": 24,
   "metadata": {},
   "outputs": [],
   "source": [
    "class Printer(cp_model.CpSolverSolutionCallback):\n",
    "\n",
    "    def __init__(self, variables):\n",
    "        cp_model.CpSolverSolutionCallback.__init__(self)\n",
    "        self.__variables = variables\n",
    "        self.__solution_count = 0\n",
    "\n",
    "    def on_solution_callback(self):\n",
    "        self.__solution_count += 1\n",
    "        total = 0\n",
    "        for v in self.__variables:\n",
    "            val = self.Value(v)\n",
    "            if val:\n",
    "                print(f\"{v}: {val}\")\n",
    "                total += 1\n",
    "        print(f\"Total: {total}\\n\")\n",
    "\n",
    "    def solution_count(self):\n",
    "        return self.__solution_count"
   ]
  },
  {
   "cell_type": "code",
   "execution_count": 25,
   "metadata": {},
   "outputs": [
    {
     "output_type": "stream",
     "name": "stdout",
     "text": [
      "(0, 1, 5, 12): 1\n(0, 1, 6, 14): 1\n(0, 2, 3, 8): 1\n(0, 2, 7, 12): 1\n(0, 3, 4, 13): 1\n(0, 4, 8, 10): 1\n(0, 5, 9, 13): 1\n(0, 6, 11, 15): 1\n(0, 7, 11, 14): 1\n(0, 9, 10, 15): 1\n(1, 2, 10, 11): 1\n(1, 2, 12, 15): 1\n(1, 3, 7, 13): 1\n(1, 3, 9, 15): 1\n(1, 4, 5, 6): 1\n(1, 4, 7, 10): 1\n(1, 8, 9, 14): 1\n(1, 8, 11, 13): 1\n(2, 3, 6, 14): 1\n(2, 4, 5, 15): 1\n(2, 4, 9, 13): 1\n(2, 5, 8, 11): 1\n(2, 6, 7, 9): 1\n(2, 10, 13, 14): 1\n(3, 4, 7, 11): 1\n(3, 5, 9, 11): 1\n(3, 5, 12, 14): 1\n(3, 6, 10, 15): 1\n(3, 8, 10, 12): 1\n(4, 6, 8, 12): 1\n(4, 9, 12, 14): 1\n(4, 11, 14, 15): 1\n(5, 6, 10, 13): 1\n(5, 7, 8, 15): 1\n(5, 7, 10, 14): 1\n(6, 7, 8, 9): 1\n(6, 11, 12, 13): 1\n(7, 12, 13, 15): 1\n(8, 13, 14, 15): 1\n(9, 10, 11, 12): 1\nTotal: 1820\n\nNumber of solutions found: 1\n"
     ]
    }
   ],
   "source": [
    "solver = cp_model.CpSolver()\n",
    "model, c = cp_tft(16)\n",
    "solution_printer = Printer(c.values())\n",
    "status = solver.SolveWithSolutionCallback(model, solution_printer)\n",
    "\n",
    "print(f\"Number of solutions found: {solution_printer.solution_count()}\")"
   ]
  },
  {
   "cell_type": "code",
   "execution_count": null,
   "metadata": {},
   "outputs": [],
   "source": []
  }
 ],
 "metadata": {
  "kernelspec": {
   "display_name": "tft",
   "language": "python",
   "name": "tft"
  },
  "language_info": {
   "codemirror_mode": {
    "name": "ipython",
    "version": 3
   },
   "file_extension": ".py",
   "mimetype": "text/x-python",
   "name": "python",
   "nbconvert_exporter": "python",
   "pygments_lexer": "ipython3",
   "version": "3.9.1-final"
  }
 },
 "nbformat": 4,
 "nbformat_minor": 2
}